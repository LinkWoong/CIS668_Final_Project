{
 "cells": [
  {
   "cell_type": "code",
   "execution_count": 1,
   "metadata": {},
   "outputs": [],
   "source": [
    "from importlib import reload\n",
    "import sys\n",
    "from imp import reload\n",
    "import warnings\n",
    "warnings.filterwarnings('ignore')\n",
    "if sys.version[0] == '2':\n",
    "    reload(sys)\n",
    "    sys.setdefaultencoding(\"utf-8\")"
   ]
  },
  {
   "cell_type": "code",
   "execution_count": 2,
   "metadata": {},
   "outputs": [],
   "source": [
    "import pandas as pd"
   ]
  },
  {
   "cell_type": "code",
   "execution_count": 3,
   "metadata": {},
   "outputs": [
    {
     "data": {
      "text/html": [
       "<div>\n",
       "<style scoped>\n",
       "    .dataframe tbody tr th:only-of-type {\n",
       "        vertical-align: middle;\n",
       "    }\n",
       "\n",
       "    .dataframe tbody tr th {\n",
       "        vertical-align: top;\n",
       "    }\n",
       "\n",
       "    .dataframe thead th {\n",
       "        text-align: right;\n",
       "    }\n",
       "</style>\n",
       "<table border=\"1\" class=\"dataframe\">\n",
       "  <thead>\n",
       "    <tr style=\"text-align: right;\">\n",
       "      <th></th>\n",
       "      <th>Unnamed: 0</th>\n",
       "      <th>type</th>\n",
       "      <th>review</th>\n",
       "      <th>label</th>\n",
       "      <th>file</th>\n",
       "    </tr>\n",
       "  </thead>\n",
       "  <tbody>\n",
       "    <tr>\n",
       "      <th>0</th>\n",
       "      <td>0</td>\n",
       "      <td>test</td>\n",
       "      <td>Once again Mr. Costner has dragged out a movie...</td>\n",
       "      <td>neg</td>\n",
       "      <td>0_2.txt</td>\n",
       "    </tr>\n",
       "    <tr>\n",
       "      <th>1</th>\n",
       "      <td>1</td>\n",
       "      <td>test</td>\n",
       "      <td>This is an example of why the majority of acti...</td>\n",
       "      <td>neg</td>\n",
       "      <td>10000_4.txt</td>\n",
       "    </tr>\n",
       "    <tr>\n",
       "      <th>2</th>\n",
       "      <td>2</td>\n",
       "      <td>test</td>\n",
       "      <td>First of all I hate those moronic rappers, who...</td>\n",
       "      <td>neg</td>\n",
       "      <td>10001_1.txt</td>\n",
       "    </tr>\n",
       "    <tr>\n",
       "      <th>3</th>\n",
       "      <td>3</td>\n",
       "      <td>test</td>\n",
       "      <td>Not even the Beatles could write songs everyon...</td>\n",
       "      <td>neg</td>\n",
       "      <td>10002_3.txt</td>\n",
       "    </tr>\n",
       "    <tr>\n",
       "      <th>4</th>\n",
       "      <td>4</td>\n",
       "      <td>test</td>\n",
       "      <td>Brass pictures (movies is not a fitting word f...</td>\n",
       "      <td>neg</td>\n",
       "      <td>10003_3.txt</td>\n",
       "    </tr>\n",
       "  </tbody>\n",
       "</table>\n",
       "</div>"
      ],
      "text/plain": [
       "   Unnamed: 0  type                                             review label  \\\n",
       "0           0  test  Once again Mr. Costner has dragged out a movie...   neg   \n",
       "1           1  test  This is an example of why the majority of acti...   neg   \n",
       "2           2  test  First of all I hate those moronic rappers, who...   neg   \n",
       "3           3  test  Not even the Beatles could write songs everyon...   neg   \n",
       "4           4  test  Brass pictures (movies is not a fitting word f...   neg   \n",
       "\n",
       "          file  \n",
       "0      0_2.txt  \n",
       "1  10000_4.txt  \n",
       "2  10001_1.txt  \n",
       "3  10002_3.txt  \n",
       "4  10003_3.txt  "
      ]
     },
     "execution_count": 3,
     "metadata": {},
     "output_type": "execute_result"
    }
   ],
   "source": [
    "df = pd.read_csv('./imdb_master.csv',encoding=\"latin-1\")\n",
    "df.head()"
   ]
  },
  {
   "cell_type": "code",
   "execution_count": 4,
   "metadata": {},
   "outputs": [
    {
     "data": {
      "text/html": [
       "<div>\n",
       "<style scoped>\n",
       "    .dataframe tbody tr th:only-of-type {\n",
       "        vertical-align: middle;\n",
       "    }\n",
       "\n",
       "    .dataframe tbody tr th {\n",
       "        vertical-align: top;\n",
       "    }\n",
       "\n",
       "    .dataframe thead th {\n",
       "        text-align: right;\n",
       "    }\n",
       "</style>\n",
       "<table border=\"1\" class=\"dataframe\">\n",
       "  <thead>\n",
       "    <tr style=\"text-align: right;\">\n",
       "      <th></th>\n",
       "      <th>review</th>\n",
       "      <th>sentiment</th>\n",
       "    </tr>\n",
       "  </thead>\n",
       "  <tbody>\n",
       "    <tr>\n",
       "      <th>0</th>\n",
       "      <td>Once again Mr. Costner has dragged out a movie...</td>\n",
       "      <td>neg</td>\n",
       "    </tr>\n",
       "    <tr>\n",
       "      <th>1</th>\n",
       "      <td>This is an example of why the majority of acti...</td>\n",
       "      <td>neg</td>\n",
       "    </tr>\n",
       "    <tr>\n",
       "      <th>2</th>\n",
       "      <td>First of all I hate those moronic rappers, who...</td>\n",
       "      <td>neg</td>\n",
       "    </tr>\n",
       "    <tr>\n",
       "      <th>3</th>\n",
       "      <td>Not even the Beatles could write songs everyon...</td>\n",
       "      <td>neg</td>\n",
       "    </tr>\n",
       "    <tr>\n",
       "      <th>4</th>\n",
       "      <td>Brass pictures (movies is not a fitting word f...</td>\n",
       "      <td>neg</td>\n",
       "    </tr>\n",
       "  </tbody>\n",
       "</table>\n",
       "</div>"
      ],
      "text/plain": [
       "                                              review sentiment\n",
       "0  Once again Mr. Costner has dragged out a movie...       neg\n",
       "1  This is an example of why the majority of acti...       neg\n",
       "2  First of all I hate those moronic rappers, who...       neg\n",
       "3  Not even the Beatles could write songs everyon...       neg\n",
       "4  Brass pictures (movies is not a fitting word f...       neg"
      ]
     },
     "execution_count": 4,
     "metadata": {},
     "output_type": "execute_result"
    }
   ],
   "source": [
    "df = df.drop(['Unnamed: 0','type','file'],axis=1)\n",
    "df.columns = [\"review\",\"sentiment\"]\n",
    "df.head()"
   ]
  },
  {
   "cell_type": "code",
   "execution_count": 5,
   "metadata": {},
   "outputs": [
    {
     "data": {
      "text/html": [
       "<div>\n",
       "<style scoped>\n",
       "    .dataframe tbody tr th:only-of-type {\n",
       "        vertical-align: middle;\n",
       "    }\n",
       "\n",
       "    .dataframe tbody tr th {\n",
       "        vertical-align: top;\n",
       "    }\n",
       "\n",
       "    .dataframe thead th {\n",
       "        text-align: right;\n",
       "    }\n",
       "</style>\n",
       "<table border=\"1\" class=\"dataframe\">\n",
       "  <thead>\n",
       "    <tr style=\"text-align: right;\">\n",
       "      <th></th>\n",
       "      <th>review</th>\n",
       "      <th>sentiment</th>\n",
       "    </tr>\n",
       "  </thead>\n",
       "  <tbody>\n",
       "    <tr>\n",
       "      <th>0</th>\n",
       "      <td>Once again Mr. Costner has dragged out a movie...</td>\n",
       "      <td>0</td>\n",
       "    </tr>\n",
       "    <tr>\n",
       "      <th>1</th>\n",
       "      <td>This is an example of why the majority of acti...</td>\n",
       "      <td>0</td>\n",
       "    </tr>\n",
       "    <tr>\n",
       "      <th>2</th>\n",
       "      <td>First of all I hate those moronic rappers, who...</td>\n",
       "      <td>0</td>\n",
       "    </tr>\n",
       "    <tr>\n",
       "      <th>3</th>\n",
       "      <td>Not even the Beatles could write songs everyon...</td>\n",
       "      <td>0</td>\n",
       "    </tr>\n",
       "    <tr>\n",
       "      <th>4</th>\n",
       "      <td>Brass pictures (movies is not a fitting word f...</td>\n",
       "      <td>0</td>\n",
       "    </tr>\n",
       "  </tbody>\n",
       "</table>\n",
       "</div>"
      ],
      "text/plain": [
       "                                              review  sentiment\n",
       "0  Once again Mr. Costner has dragged out a movie...          0\n",
       "1  This is an example of why the majority of acti...          0\n",
       "2  First of all I hate those moronic rappers, who...          0\n",
       "3  Not even the Beatles could write songs everyon...          0\n",
       "4  Brass pictures (movies is not a fitting word f...          0"
      ]
     },
     "execution_count": 5,
     "metadata": {},
     "output_type": "execute_result"
    }
   ],
   "source": [
    "df = df[df.sentiment != 'unsup']\n",
    "df['sentiment'] = df['sentiment'].map({'pos': 1, 'neg': 0})\n",
    "df.head()"
   ]
  },
  {
   "cell_type": "code",
   "execution_count": 6,
   "metadata": {},
   "outputs": [
    {
     "name": "stdout",
     "output_type": "stream",
     "text": [
      "25000\n",
      "25000\n"
     ]
    }
   ],
   "source": [
    "neg = 0\n",
    "pos = 0\n",
    "for i in range(len(df)):\n",
    "    if df['sentiment'][i] == 0:\n",
    "        neg += 1\n",
    "    elif df['sentiment'][i] == 1:\n",
    "        pos += 1\n",
    "        \n",
    "print(neg)\n",
    "print(pos)"
   ]
  },
  {
   "cell_type": "code",
   "execution_count": 7,
   "metadata": {},
   "outputs": [
    {
     "name": "stderr",
     "output_type": "stream",
     "text": [
      "[nltk_data] Downloading package stopwords to\n",
      "[nltk_data]     /home/jiayang/nltk_data...\n",
      "[nltk_data]   Package stopwords is already up-to-date!\n",
      "[nltk_data] Downloading package wordnet to /home/jiayang/nltk_data...\n",
      "[nltk_data]   Package wordnet is already up-to-date!\n"
     ]
    },
    {
     "data": {
      "text/plain": [
       "True"
      ]
     },
     "execution_count": 7,
     "metadata": {},
     "output_type": "execute_result"
    }
   ],
   "source": [
    "import nltk\n",
    "nltk.download('stopwords')\n",
    "nltk.download('wordnet')"
   ]
  },
  {
   "cell_type": "code",
   "execution_count": 8,
   "metadata": {},
   "outputs": [
    {
     "data": {
      "text/html": [
       "<div>\n",
       "<style scoped>\n",
       "    .dataframe tbody tr th:only-of-type {\n",
       "        vertical-align: middle;\n",
       "    }\n",
       "\n",
       "    .dataframe tbody tr th {\n",
       "        vertical-align: top;\n",
       "    }\n",
       "\n",
       "    .dataframe thead th {\n",
       "        text-align: right;\n",
       "    }\n",
       "</style>\n",
       "<table border=\"1\" class=\"dataframe\">\n",
       "  <thead>\n",
       "    <tr style=\"text-align: right;\">\n",
       "      <th></th>\n",
       "      <th>review</th>\n",
       "      <th>sentiment</th>\n",
       "      <th>Processed_Reviews</th>\n",
       "    </tr>\n",
       "  </thead>\n",
       "  <tbody>\n",
       "    <tr>\n",
       "      <th>0</th>\n",
       "      <td>Once again Mr. Costner has dragged out a movie...</td>\n",
       "      <td>0</td>\n",
       "      <td>[once, again, mr, costner, has, dragged, out, ...</td>\n",
       "    </tr>\n",
       "    <tr>\n",
       "      <th>1</th>\n",
       "      <td>This is an example of why the majority of acti...</td>\n",
       "      <td>0</td>\n",
       "      <td>[this, is, an, example, of, why, the, majority...</td>\n",
       "    </tr>\n",
       "    <tr>\n",
       "      <th>2</th>\n",
       "      <td>First of all I hate those moronic rappers, who...</td>\n",
       "      <td>0</td>\n",
       "      <td>[first, of, all, i, hate, those, moronic, rapp...</td>\n",
       "    </tr>\n",
       "    <tr>\n",
       "      <th>3</th>\n",
       "      <td>Not even the Beatles could write songs everyon...</td>\n",
       "      <td>0</td>\n",
       "      <td>[not, even, the, beatles, could, write, songs,...</td>\n",
       "    </tr>\n",
       "    <tr>\n",
       "      <th>4</th>\n",
       "      <td>Brass pictures (movies is not a fitting word f...</td>\n",
       "      <td>0</td>\n",
       "      <td>[brass, pictures, movies, is, not, a, fitting,...</td>\n",
       "    </tr>\n",
       "  </tbody>\n",
       "</table>\n",
       "</div>"
      ],
      "text/plain": [
       "                                              review  sentiment  \\\n",
       "0  Once again Mr. Costner has dragged out a movie...          0   \n",
       "1  This is an example of why the majority of acti...          0   \n",
       "2  First of all I hate those moronic rappers, who...          0   \n",
       "3  Not even the Beatles could write songs everyon...          0   \n",
       "4  Brass pictures (movies is not a fitting word f...          0   \n",
       "\n",
       "                                   Processed_Reviews  \n",
       "0  [once, again, mr, costner, has, dragged, out, ...  \n",
       "1  [this, is, an, example, of, why, the, majority...  \n",
       "2  [first, of, all, i, hate, those, moronic, rapp...  \n",
       "3  [not, even, the, beatles, could, write, songs,...  \n",
       "4  [brass, pictures, movies, is, not, a, fitting,...  "
      ]
     },
     "execution_count": 8,
     "metadata": {},
     "output_type": "execute_result"
    }
   ],
   "source": [
    "import re\n",
    "from nltk import*\n",
    "from nltk.stem import WordNetLemmatizer\n",
    "from nltk.corpus import stopwords\n",
    "stop_words = set(stopwords.words(\"english\")) \n",
    "lemmatizer = WordNetLemmatizer()\n",
    "\n",
    "tokenizer = RegexpTokenizer(r'\\w+')\n",
    "df['Processed_Reviews'] = df['review'].apply(lambda x: tokenizer.tokenize(x.lower())) \n",
    "\n",
    "df.head()"
   ]
  },
  {
   "cell_type": "code",
   "execution_count": 9,
   "metadata": {},
   "outputs": [
    {
     "data": {
      "text/html": [
       "<div>\n",
       "<style scoped>\n",
       "    .dataframe tbody tr th:only-of-type {\n",
       "        vertical-align: middle;\n",
       "    }\n",
       "\n",
       "    .dataframe tbody tr th {\n",
       "        vertical-align: top;\n",
       "    }\n",
       "\n",
       "    .dataframe thead th {\n",
       "        text-align: right;\n",
       "    }\n",
       "</style>\n",
       "<table border=\"1\" class=\"dataframe\">\n",
       "  <thead>\n",
       "    <tr style=\"text-align: right;\">\n",
       "      <th></th>\n",
       "      <th>review</th>\n",
       "      <th>sentiment</th>\n",
       "      <th>Processed_Reviews</th>\n",
       "    </tr>\n",
       "  </thead>\n",
       "  <tbody>\n",
       "    <tr>\n",
       "      <th>0</th>\n",
       "      <td>Once again Mr. Costner has dragged out a movie...</td>\n",
       "      <td>0</td>\n",
       "      <td>[mr, costner, dragged, movie, far, longer, nec...</td>\n",
       "    </tr>\n",
       "    <tr>\n",
       "      <th>1</th>\n",
       "      <td>This is an example of why the majority of acti...</td>\n",
       "      <td>0</td>\n",
       "      <td>[example, majority, action, films, generic, bo...</td>\n",
       "    </tr>\n",
       "    <tr>\n",
       "      <th>2</th>\n",
       "      <td>First of all I hate those moronic rappers, who...</td>\n",
       "      <td>0</td>\n",
       "      <td>[first, hate, moronic, rappers, could, nt, act...</td>\n",
       "    </tr>\n",
       "    <tr>\n",
       "      <th>3</th>\n",
       "      <td>Not even the Beatles could write songs everyon...</td>\n",
       "      <td>0</td>\n",
       "      <td>[even, beatles, could, write, songs, everyone,...</td>\n",
       "    </tr>\n",
       "    <tr>\n",
       "      <th>4</th>\n",
       "      <td>Brass pictures (movies is not a fitting word f...</td>\n",
       "      <td>0</td>\n",
       "      <td>[brass, pictures, movies, fitting, word, reall...</td>\n",
       "    </tr>\n",
       "  </tbody>\n",
       "</table>\n",
       "</div>"
      ],
      "text/plain": [
       "                                              review  sentiment  \\\n",
       "0  Once again Mr. Costner has dragged out a movie...          0   \n",
       "1  This is an example of why the majority of acti...          0   \n",
       "2  First of all I hate those moronic rappers, who...          0   \n",
       "3  Not even the Beatles could write songs everyon...          0   \n",
       "4  Brass pictures (movies is not a fitting word f...          0   \n",
       "\n",
       "                                   Processed_Reviews  \n",
       "0  [mr, costner, dragged, movie, far, longer, nec...  \n",
       "1  [example, majority, action, films, generic, bo...  \n",
       "2  [first, hate, moronic, rappers, could, nt, act...  \n",
       "3  [even, beatles, could, write, songs, everyone,...  \n",
       "4  [brass, pictures, movies, fitting, word, reall...  "
      ]
     },
     "execution_count": 9,
     "metadata": {},
     "output_type": "execute_result"
    }
   ],
   "source": [
    "# def remove_stopwords(text):\n",
    "#     words = [w for w in text if w not in stopwords.words('english')]\n",
    "#     print('1')\n",
    "#     return words\n",
    "# df['Processed_Reviews'] = df['Processed_Reviews'].apply(lambda x:[w for w in x if w not in stopwords.words('english')])\n",
    "stop_words = set(stopwords.words('english'))\n",
    "df['Processed_Reviews'] = df['Processed_Reviews'].apply(lambda x: [word for word in x if word not in stop_words])\n",
    "df.head()"
   ]
  },
  {
   "cell_type": "code",
   "execution_count": 10,
   "metadata": {},
   "outputs": [
    {
     "data": {
      "text/html": [
       "<div>\n",
       "<style scoped>\n",
       "    .dataframe tbody tr th:only-of-type {\n",
       "        vertical-align: middle;\n",
       "    }\n",
       "\n",
       "    .dataframe tbody tr th {\n",
       "        vertical-align: top;\n",
       "    }\n",
       "\n",
       "    .dataframe thead th {\n",
       "        text-align: right;\n",
       "    }\n",
       "</style>\n",
       "<table border=\"1\" class=\"dataframe\">\n",
       "  <thead>\n",
       "    <tr style=\"text-align: right;\">\n",
       "      <th></th>\n",
       "      <th>review</th>\n",
       "      <th>sentiment</th>\n",
       "      <th>Processed_Reviews</th>\n",
       "    </tr>\n",
       "  </thead>\n",
       "  <tbody>\n",
       "    <tr>\n",
       "      <th>0</th>\n",
       "      <td>Once again Mr. Costner has dragged out a movie...</td>\n",
       "      <td>0</td>\n",
       "      <td>[mr, costner, dragged, movie, far, longer, nec...</td>\n",
       "    </tr>\n",
       "    <tr>\n",
       "      <th>1</th>\n",
       "      <td>This is an example of why the majority of acti...</td>\n",
       "      <td>0</td>\n",
       "      <td>[example, majority, action, film, generic, bor...</td>\n",
       "    </tr>\n",
       "    <tr>\n",
       "      <th>2</th>\n",
       "      <td>First of all I hate those moronic rappers, who...</td>\n",
       "      <td>0</td>\n",
       "      <td>[first, hate, moronic, rapper, could, nt, act,...</td>\n",
       "    </tr>\n",
       "    <tr>\n",
       "      <th>3</th>\n",
       "      <td>Not even the Beatles could write songs everyon...</td>\n",
       "      <td>0</td>\n",
       "      <td>[even, beatles, could, write, song, everyone, ...</td>\n",
       "    </tr>\n",
       "    <tr>\n",
       "      <th>4</th>\n",
       "      <td>Brass pictures (movies is not a fitting word f...</td>\n",
       "      <td>0</td>\n",
       "      <td>[brass, picture, movie, fitting, word, really,...</td>\n",
       "    </tr>\n",
       "  </tbody>\n",
       "</table>\n",
       "</div>"
      ],
      "text/plain": [
       "                                              review  sentiment  \\\n",
       "0  Once again Mr. Costner has dragged out a movie...          0   \n",
       "1  This is an example of why the majority of acti...          0   \n",
       "2  First of all I hate those moronic rappers, who...          0   \n",
       "3  Not even the Beatles could write songs everyon...          0   \n",
       "4  Brass pictures (movies is not a fitting word f...          0   \n",
       "\n",
       "                                   Processed_Reviews  \n",
       "0  [mr, costner, dragged, movie, far, longer, nec...  \n",
       "1  [example, majority, action, film, generic, bor...  \n",
       "2  [first, hate, moronic, rapper, could, nt, act,...  \n",
       "3  [even, beatles, could, write, song, everyone, ...  \n",
       "4  [brass, picture, movie, fitting, word, really,...  "
      ]
     },
     "execution_count": 10,
     "metadata": {},
     "output_type": "execute_result"
    }
   ],
   "source": [
    "lemmatizer = WordNetLemmatizer()\n",
    "\n",
    "def word_lemmatizer(text):\n",
    "    lem_text = [lemmatizer.lemmatize(i) for i in text]\n",
    "    return lem_text\n",
    "df['Processed_Reviews'] = df['Processed_Reviews'].apply(lambda x :word_lemmatizer(x))\n",
    "df.head()"
   ]
  },
  {
   "cell_type": "code",
   "execution_count": 11,
   "metadata": {},
   "outputs": [
    {
     "data": {
      "text/html": [
       "<div>\n",
       "<style scoped>\n",
       "    .dataframe tbody tr th:only-of-type {\n",
       "        vertical-align: middle;\n",
       "    }\n",
       "\n",
       "    .dataframe tbody tr th {\n",
       "        vertical-align: top;\n",
       "    }\n",
       "\n",
       "    .dataframe thead th {\n",
       "        text-align: right;\n",
       "    }\n",
       "</style>\n",
       "<table border=\"1\" class=\"dataframe\">\n",
       "  <thead>\n",
       "    <tr style=\"text-align: right;\">\n",
       "      <th></th>\n",
       "      <th>review</th>\n",
       "      <th>sentiment</th>\n",
       "      <th>Processed_Reviews</th>\n",
       "      <th>str_Reviews</th>\n",
       "    </tr>\n",
       "  </thead>\n",
       "  <tbody>\n",
       "    <tr>\n",
       "      <th>0</th>\n",
       "      <td>Once again Mr. Costner has dragged out a movie...</td>\n",
       "      <td>0</td>\n",
       "      <td>[mr, costner, dragged, movie, far, longer, nec...</td>\n",
       "      <td>mr costner dragged movie far longer necessary ...</td>\n",
       "    </tr>\n",
       "    <tr>\n",
       "      <th>1</th>\n",
       "      <td>This is an example of why the majority of acti...</td>\n",
       "      <td>0</td>\n",
       "      <td>[example, majority, action, film, generic, bor...</td>\n",
       "      <td>example majority action film generic boring re...</td>\n",
       "    </tr>\n",
       "    <tr>\n",
       "      <th>2</th>\n",
       "      <td>First of all I hate those moronic rappers, who...</td>\n",
       "      <td>0</td>\n",
       "      <td>[first, hate, moronic, rapper, could, nt, act,...</td>\n",
       "      <td>first hate moronic rapper could nt act gun pre...</td>\n",
       "    </tr>\n",
       "    <tr>\n",
       "      <th>3</th>\n",
       "      <td>Not even the Beatles could write songs everyon...</td>\n",
       "      <td>0</td>\n",
       "      <td>[even, beatles, could, write, song, everyone, ...</td>\n",
       "      <td>even beatles could write song everyone liked a...</td>\n",
       "    </tr>\n",
       "    <tr>\n",
       "      <th>4</th>\n",
       "      <td>Brass pictures (movies is not a fitting word f...</td>\n",
       "      <td>0</td>\n",
       "      <td>[brass, picture, movie, fitting, word, really,...</td>\n",
       "      <td>brass picture movie fitting word really somewh...</td>\n",
       "    </tr>\n",
       "  </tbody>\n",
       "</table>\n",
       "</div>"
      ],
      "text/plain": [
       "                                              review  sentiment  \\\n",
       "0  Once again Mr. Costner has dragged out a movie...          0   \n",
       "1  This is an example of why the majority of acti...          0   \n",
       "2  First of all I hate those moronic rappers, who...          0   \n",
       "3  Not even the Beatles could write songs everyon...          0   \n",
       "4  Brass pictures (movies is not a fitting word f...          0   \n",
       "\n",
       "                                   Processed_Reviews  \\\n",
       "0  [mr, costner, dragged, movie, far, longer, nec...   \n",
       "1  [example, majority, action, film, generic, bor...   \n",
       "2  [first, hate, moronic, rapper, could, nt, act,...   \n",
       "3  [even, beatles, could, write, song, everyone, ...   \n",
       "4  [brass, picture, movie, fitting, word, really,...   \n",
       "\n",
       "                                         str_Reviews  \n",
       "0  mr costner dragged movie far longer necessary ...  \n",
       "1  example majority action film generic boring re...  \n",
       "2  first hate moronic rapper could nt act gun pre...  \n",
       "3  even beatles could write song everyone liked a...  \n",
       "4  brass picture movie fitting word really somewh...  "
      ]
     },
     "execution_count": 11,
     "metadata": {},
     "output_type": "execute_result"
    }
   ],
   "source": [
    "def list_to_str(alist):\n",
    "    a = \" \".join(alist)\n",
    "    return a\n",
    "df['str_Reviews'] = df['Processed_Reviews'].apply(lambda x :list_to_str(x))\n",
    "df.head()"
   ]
  },
  {
   "cell_type": "code",
   "execution_count": 12,
   "metadata": {},
   "outputs": [
    {
     "data": {
      "text/html": [
       "<div>\n",
       "<style scoped>\n",
       "    .dataframe tbody tr th:only-of-type {\n",
       "        vertical-align: middle;\n",
       "    }\n",
       "\n",
       "    .dataframe tbody tr th {\n",
       "        vertical-align: top;\n",
       "    }\n",
       "\n",
       "    .dataframe thead th {\n",
       "        text-align: right;\n",
       "    }\n",
       "</style>\n",
       "<table border=\"1\" class=\"dataframe\">\n",
       "  <thead>\n",
       "    <tr style=\"text-align: right;\">\n",
       "      <th></th>\n",
       "      <th>sentiment</th>\n",
       "      <th>Processed_Reviews</th>\n",
       "      <th>str_Reviews</th>\n",
       "    </tr>\n",
       "  </thead>\n",
       "  <tbody>\n",
       "    <tr>\n",
       "      <th>0</th>\n",
       "      <td>0</td>\n",
       "      <td>[mr, costner, dragged, movie, far, longer, nec...</td>\n",
       "      <td>mr costner dragged movie far longer necessary ...</td>\n",
       "    </tr>\n",
       "    <tr>\n",
       "      <th>1</th>\n",
       "      <td>0</td>\n",
       "      <td>[example, majority, action, film, generic, bor...</td>\n",
       "      <td>example majority action film generic boring re...</td>\n",
       "    </tr>\n",
       "    <tr>\n",
       "      <th>2</th>\n",
       "      <td>0</td>\n",
       "      <td>[first, hate, moronic, rapper, could, nt, act,...</td>\n",
       "      <td>first hate moronic rapper could nt act gun pre...</td>\n",
       "    </tr>\n",
       "    <tr>\n",
       "      <th>3</th>\n",
       "      <td>0</td>\n",
       "      <td>[even, beatles, could, write, song, everyone, ...</td>\n",
       "      <td>even beatles could write song everyone liked a...</td>\n",
       "    </tr>\n",
       "    <tr>\n",
       "      <th>4</th>\n",
       "      <td>0</td>\n",
       "      <td>[brass, picture, movie, fitting, word, really,...</td>\n",
       "      <td>brass picture movie fitting word really somewh...</td>\n",
       "    </tr>\n",
       "  </tbody>\n",
       "</table>\n",
       "</div>"
      ],
      "text/plain": [
       "   sentiment                                  Processed_Reviews  \\\n",
       "0          0  [mr, costner, dragged, movie, far, longer, nec...   \n",
       "1          0  [example, majority, action, film, generic, bor...   \n",
       "2          0  [first, hate, moronic, rapper, could, nt, act,...   \n",
       "3          0  [even, beatles, could, write, song, everyone, ...   \n",
       "4          0  [brass, picture, movie, fitting, word, really,...   \n",
       "\n",
       "                                         str_Reviews  \n",
       "0  mr costner dragged movie far longer necessary ...  \n",
       "1  example majority action film generic boring re...  \n",
       "2  first hate moronic rapper could nt act gun pre...  \n",
       "3  even beatles could write song everyone liked a...  \n",
       "4  brass picture movie fitting word really somewh...  "
      ]
     },
     "execution_count": 12,
     "metadata": {},
     "output_type": "execute_result"
    }
   ],
   "source": [
    "df = df.drop(['review'], axis=1)\n",
    "df.head()"
   ]
  },
  {
   "cell_type": "code",
   "execution_count": null,
   "metadata": {},
   "outputs": [],
   "source": []
  },
  {
   "cell_type": "code",
   "execution_count": 15,
   "metadata": {},
   "outputs": [
    {
     "name": "stderr",
     "output_type": "stream",
     "text": [
      "IOPub data rate exceeded.\n",
      "The notebook server will temporarily stop sending output\n",
      "to the client in order to avoid crashing it.\n",
      "To change this limit, set the config variable\n",
      "`--NotebookApp.iopub_data_rate_limit`.\n",
      "\n",
      "Current values:\n",
      "NotebookApp.iopub_data_rate_limit=1000000.0 (bytes/sec)\n",
      "NotebookApp.rate_limit_window=3.0 (secs)\n",
      "\n"
     ]
    }
   ],
   "source": [
    "import json\n",
    "data = json.load(open('processed_data.json', 'r'))\n",
    "print(data)\n",
    "list_sen = [2 for i in range(len(data))]\n",
    "df2 = pd.DataFrame(data={\"Processed_Reviews\": data, \"sentiment\": list_sen})\n",
    "df2['str_Reviews'] = df2['Processed_Reviews'].apply(lambda x :list_to_str(x))"
   ]
  },
  {
   "cell_type": "code",
   "execution_count": null,
   "metadata": {},
   "outputs": [],
   "source": []
  },
  {
   "cell_type": "code",
   "execution_count": 16,
   "metadata": {},
   "outputs": [
    {
     "data": {
      "text/html": [
       "<div>\n",
       "<style scoped>\n",
       "    .dataframe tbody tr th:only-of-type {\n",
       "        vertical-align: middle;\n",
       "    }\n",
       "\n",
       "    .dataframe tbody tr th {\n",
       "        vertical-align: top;\n",
       "    }\n",
       "\n",
       "    .dataframe thead th {\n",
       "        text-align: right;\n",
       "    }\n",
       "</style>\n",
       "<table border=\"1\" class=\"dataframe\">\n",
       "  <thead>\n",
       "    <tr style=\"text-align: right;\">\n",
       "      <th></th>\n",
       "      <th>Processed_Reviews</th>\n",
       "      <th>sentiment</th>\n",
       "      <th>str_Reviews</th>\n",
       "    </tr>\n",
       "  </thead>\n",
       "  <tbody>\n",
       "    <tr>\n",
       "      <th>0</th>\n",
       "      <td>[mr, costner, dragged, movie, far, longer, nec...</td>\n",
       "      <td>0</td>\n",
       "      <td>mr costner dragged movie far longer necessary ...</td>\n",
       "    </tr>\n",
       "    <tr>\n",
       "      <th>1</th>\n",
       "      <td>[example, majority, action, film, generic, bor...</td>\n",
       "      <td>0</td>\n",
       "      <td>example majority action film generic boring re...</td>\n",
       "    </tr>\n",
       "    <tr>\n",
       "      <th>2</th>\n",
       "      <td>[first, hate, moronic, rapper, could, nt, act,...</td>\n",
       "      <td>0</td>\n",
       "      <td>first hate moronic rapper could nt act gun pre...</td>\n",
       "    </tr>\n",
       "    <tr>\n",
       "      <th>3</th>\n",
       "      <td>[even, beatles, could, write, song, everyone, ...</td>\n",
       "      <td>0</td>\n",
       "      <td>even beatles could write song everyone liked a...</td>\n",
       "    </tr>\n",
       "    <tr>\n",
       "      <th>4</th>\n",
       "      <td>[brass, picture, movie, fitting, word, really,...</td>\n",
       "      <td>0</td>\n",
       "      <td>brass picture movie fitting word really somewh...</td>\n",
       "    </tr>\n",
       "  </tbody>\n",
       "</table>\n",
       "</div>"
      ],
      "text/plain": [
       "                                   Processed_Reviews  sentiment  \\\n",
       "0  [mr, costner, dragged, movie, far, longer, nec...          0   \n",
       "1  [example, majority, action, film, generic, bor...          0   \n",
       "2  [first, hate, moronic, rapper, could, nt, act,...          0   \n",
       "3  [even, beatles, could, write, song, everyone, ...          0   \n",
       "4  [brass, picture, movie, fitting, word, really,...          0   \n",
       "\n",
       "                                         str_Reviews  \n",
       "0  mr costner dragged movie far longer necessary ...  \n",
       "1  example majority action film generic boring re...  \n",
       "2  first hate moronic rapper could nt act gun pre...  \n",
       "3  even beatles could write song everyone liked a...  \n",
       "4  brass picture movie fitting word really somewh...  "
      ]
     },
     "execution_count": 16,
     "metadata": {},
     "output_type": "execute_result"
    }
   ],
   "source": [
    "df = pd.concat([df, df2]).reset_index(drop=True)\n",
    "df.head()"
   ]
  },
  {
   "cell_type": "code",
   "execution_count": 17,
   "metadata": {},
   "outputs": [
    {
     "data": {
      "text/html": [
       "<div>\n",
       "<style scoped>\n",
       "    .dataframe tbody tr th:only-of-type {\n",
       "        vertical-align: middle;\n",
       "    }\n",
       "\n",
       "    .dataframe tbody tr th {\n",
       "        vertical-align: top;\n",
       "    }\n",
       "\n",
       "    .dataframe thead th {\n",
       "        text-align: right;\n",
       "    }\n",
       "</style>\n",
       "<table border=\"1\" class=\"dataframe\">\n",
       "  <thead>\n",
       "    <tr style=\"text-align: right;\">\n",
       "      <th></th>\n",
       "      <th>Processed_Reviews</th>\n",
       "      <th>sentiment</th>\n",
       "      <th>str_Reviews</th>\n",
       "    </tr>\n",
       "  </thead>\n",
       "  <tbody>\n",
       "    <tr>\n",
       "      <th>95241</th>\n",
       "      <td>[holey, captain, crud, mine, say, copy, window...</td>\n",
       "      <td>2</td>\n",
       "      <td>holey captain crud mine say copy window genuin...</td>\n",
       "    </tr>\n",
       "    <tr>\n",
       "      <th>95242</th>\n",
       "      <td>[tablet, month, the, bad, thing, touchscreen, ...</td>\n",
       "      <td>2</td>\n",
       "      <td>tablet month the bad thing touchscreen mine ma...</td>\n",
       "    </tr>\n",
       "    <tr>\n",
       "      <th>95243</th>\n",
       "      <td>[addons, chrome, touch, mozilla, grab, drag]</td>\n",
       "      <td>2</td>\n",
       "      <td>addons chrome touch mozilla grab drag</td>\n",
       "    </tr>\n",
       "    <tr>\n",
       "      <th>95244</th>\n",
       "      <td>[it, hard, drive, ssd]</td>\n",
       "      <td>2</td>\n",
       "      <td>it hard drive ssd</td>\n",
       "    </tr>\n",
       "    <tr>\n",
       "      <th>95245</th>\n",
       "      <td>[hold, galaxy, tab, 10.1, know, weak, creaky, ...</td>\n",
       "      <td>2</td>\n",
       "      <td>hold galaxy tab 10.1 know weak creaky mean</td>\n",
       "    </tr>\n",
       "  </tbody>\n",
       "</table>\n",
       "</div>"
      ],
      "text/plain": [
       "                                       Processed_Reviews  sentiment  \\\n",
       "95241  [holey, captain, crud, mine, say, copy, window...          2   \n",
       "95242  [tablet, month, the, bad, thing, touchscreen, ...          2   \n",
       "95243       [addons, chrome, touch, mozilla, grab, drag]          2   \n",
       "95244                             [it, hard, drive, ssd]          2   \n",
       "95245  [hold, galaxy, tab, 10.1, know, weak, creaky, ...          2   \n",
       "\n",
       "                                             str_Reviews  \n",
       "95241  holey captain crud mine say copy window genuin...  \n",
       "95242  tablet month the bad thing touchscreen mine ma...  \n",
       "95243              addons chrome touch mozilla grab drag  \n",
       "95244                                  it hard drive ssd  \n",
       "95245         hold galaxy tab 10.1 know weak creaky mean  "
      ]
     },
     "execution_count": 17,
     "metadata": {},
     "output_type": "execute_result"
    }
   ],
   "source": [
    "df.tail()"
   ]
  },
  {
   "cell_type": "code",
   "execution_count": 18,
   "metadata": {},
   "outputs": [
    {
     "name": "stdout",
     "output_type": "stream",
     "text": [
      "6643545\n",
      "110387\n"
     ]
    }
   ],
   "source": [
    "all_words = []\n",
    "for i in df['Processed_Reviews']:\n",
    "#     print(len(df['Processed_Reviews'][i])\n",
    "    for j in i:\n",
    "        all_words.append(j)\n",
    "print(len(all_words))\n",
    "vocab = set(all_words)  \n",
    "len_vocab = len(vocab)\n",
    "print(len_vocab)"
   ]
  },
  {
   "cell_type": "code",
   "execution_count": 28,
   "metadata": {},
   "outputs": [
    {
     "name": "stdout",
     "output_type": "stream",
     "text": [
      "<class 'list'>\n",
      "[286, 6855, 3357, 2, 123, 1029, 1649, 1069, 1273, 1424, 1874, 320, 273, 9, 80, 960, 3686, 6855, 9, 1633, 309, 1463, 18, 218, 7, 273, 9, 15, 273, 9180, 31586, 9492, 8921, 186, 49, 131, 27, 55, 145, 226, 91, 25, 1277, 16380, 3686, 5977, 653, 1664, 6855, 313, 16, 412, 213, 23, 82, 3413, 6855, 153, 80, 8921, 960, 481, 8921, 1932, 38, 2476, 14229, 10790, 1259, 29, 180, 1558, 209]\n",
      "mr costner dragged movie far longer necessary aside terrific sea rescue sequence care character u ghost closet costner character realized early forgotten much later time care character really care cocky overconfident ashton kutcher problem come kid think better anyone else around show sign cluttered closet obstacle appears winning costner finally well past half way point stinker costner tell u kutcher ghost told kutcher driven best prior inkling foreshadowing magic could keep turning hour\n"
     ]
    }
   ],
   "source": [
    "from keras.preprocessing.text import Tokenizer\n",
    "from keras.preprocessing.sequence import pad_sequences\n",
    "from keras.layers import Dense , Input , LSTM , Embedding, Dropout , Activation, GRU, Flatten\n",
    "from keras.layers import Bidirectional, GlobalMaxPool1D\n",
    "from keras.models import Model, Sequential\n",
    "from keras.layers import Convolution1D\n",
    "from keras import initializers, regularizers, constraints, optimizers, layers\n",
    "from sklearn.model_selection import train_test_split\n",
    "max_features = len_vocab\n",
    "tokenizer = Tokenizer(num_words=max_features)\n",
    "tokenizer.fit_on_texts(df['str_Reviews'])\n",
    "list_tokenized = tokenizer.texts_to_sequences(df['str_Reviews'])\n",
    "print(type(list_tokenized))\n",
    "print(list_tokenized[0])\n",
    "print(df['str_Reviews'][0])\n",
    "maxlen = 130\n",
    "X = pad_sequences(list_tokenized, maxlen=maxlen, padding='post')[:50000]\n",
    "y = df['sentiment'][:50000]\n",
    "\n",
    "X_pre = pad_sequences(list_tokenized, maxlen=maxlen, padding='post')[50000:]\n",
    "y_pre = df['sentiment'][50000:]"
   ]
  },
  {
   "cell_type": "code",
   "execution_count": 29,
   "metadata": {},
   "outputs": [
    {
     "name": "stdout",
     "output_type": "stream",
     "text": [
      "[37938, 1436, 13334, 986, 36, 646, 1116, 1870, 27, 1416, 56, 704, 38638, 47942, 633, 133, 657, 405, 40725, 9389, 107442, 133, 7192, 25362, 57, 7192, 107443]\n",
      "holey captain crud mine say copy window genuine think do something ... plus geting replacment touch screen fit soon aparently archos outsources screen repair upto find repair depo ...\n"
     ]
    }
   ],
   "source": [
    "print(list_tokenized[95241])\n",
    "print(df['str_Reviews'][95241])"
   ]
  },
  {
   "cell_type": "code",
   "execution_count": 30,
   "metadata": {},
   "outputs": [
    {
     "name": "stdout",
     "output_type": "stream",
     "text": [
      "47500\n",
      "2500\n",
      "<class 'pandas.core.series.Series'>\n",
      "[[  689    88  3418 ...     0     0     0]\n",
      " [  184  4728  7621 ...  3216   812    18]\n",
      " [   63 20219 48408 ...     0     0     0]\n",
      " ...\n",
      " [   65    25   630 ...   129     7    35]\n",
      " [ 2269   667 26892 ...  3627   560    75]\n",
      " [  349     2   366 ...     0     0     0]]\n"
     ]
    }
   ],
   "source": [
    "\n",
    "X_train, X_test, y_train, y_test = train_test_split(\n",
    "    X,\n",
    "    y,\n",
    "    test_size=0.05,\n",
    "    shuffle=True,\n",
    "    random_state=42)\n",
    "print(len(X_train))\n",
    "print(len(X_test))\n",
    "print(type(y_train))\n",
    "print(X_test)"
   ]
  },
  {
   "cell_type": "code",
   "execution_count": 31,
   "metadata": {},
   "outputs": [
    {
     "name": "stdout",
     "output_type": "stream",
     "text": [
      "33553    0\n",
      "9427     0\n",
      "199      0\n",
      "12447    0\n",
      "39489    1\n",
      "42724    1\n",
      "10822    0\n",
      "49498    1\n",
      "4144     0\n",
      "36958    0\n",
      "43106    1\n",
      "38695    1\n",
      "6188     0\n",
      "1414     0\n",
      "18471    1\n",
      "29282    0\n",
      "15177    1\n",
      "34304    0\n",
      "12609    1\n",
      "12144    0\n",
      "6113     0\n",
      "15908    1\n",
      "821      0\n",
      "15118    1\n",
      "13466    1\n",
      "26497    0\n",
      "42111    1\n",
      "30188    0\n",
      "37237    0\n",
      "33109    0\n",
      "        ..\n",
      "926      0\n",
      "35817    0\n",
      "10115    0\n",
      "8318     0\n",
      "26072    0\n",
      "29729    0\n",
      "9625     0\n",
      "3785     0\n",
      "20885    1\n",
      "6904     0\n",
      "6478     0\n",
      "27148    0\n",
      "33657    0\n",
      "38899    1\n",
      "26816    0\n",
      "35546    0\n",
      "41571    1\n",
      "24447    1\n",
      "30245    0\n",
      "22557    1\n",
      "45578    1\n",
      "17735    1\n",
      "25980    0\n",
      "5864     0\n",
      "6529     0\n",
      "10536    0\n",
      "28212    0\n",
      "7360     0\n",
      "38902    1\n",
      "12510    1\n",
      "Name: sentiment, Length: 2500, dtype: int64\n"
     ]
    }
   ],
   "source": [
    "print(y_test)"
   ]
  },
  {
   "cell_type": "code",
   "execution_count": 33,
   "metadata": {},
   "outputs": [
    {
     "name": "stdout",
     "output_type": "stream",
     "text": [
      "Train on 47500 samples, validate on 2500 samples\n",
      "Epoch 1/1\n",
      "47500/47500 [==============================] - 375s 8ms/step - loss: 0.3465 - acc: 0.8532 - val_loss: 0.2566 - val_acc: 0.8952\n"
     ]
    },
    {
     "data": {
      "text/plain": [
       "<keras.callbacks.History at 0x7f314544aba8>"
      ]
     },
     "execution_count": 33,
     "metadata": {},
     "output_type": "execute_result"
    }
   ],
   "source": [
    "\n",
    "embed_size = 256\n",
    "model = Sequential()\n",
    "model.add(Embedding(max_features, embed_size))\n",
    "model.add(Bidirectional(LSTM(32, return_sequences = True)))\n",
    "model.add(GlobalMaxPool1D())\n",
    "model.add(Dense(20, activation=\"relu\"))\n",
    "model.add(Dropout(0.3))\n",
    "model.add(Dense(1, activation=\"sigmoid\"))\n",
    "model.compile(loss='binary_crossentropy', optimizer='adam', metrics=['accuracy'])\n",
    "\n",
    "batch_size = 100\n",
    "epochs = 1\n",
    "model.fit(X_train,y_train, validation_data=(X_test, y_test),batch_size=batch_size, epochs=epochs)"
   ]
  },
  {
   "cell_type": "code",
   "execution_count": 34,
   "metadata": {},
   "outputs": [
    {
     "name": "stdout",
     "output_type": "stream",
     "text": [
      "45246/45246 [==============================] - 197s 4ms/step\n"
     ]
    }
   ],
   "source": [
    "Y_pred = model.predict_classes(X_pre)"
   ]
  },
  {
   "cell_type": "code",
   "execution_count": 38,
   "metadata": {},
   "outputs": [
    {
     "name": "stdout",
     "output_type": "stream",
     "text": [
      "[[1]\n",
      " [1]\n",
      " [1]\n",
      " ...\n",
      " [1]\n",
      " [1]\n",
      " [0]]\n",
      "<class 'numpy.ndarray'>\n",
      "<class 'numpy.ndarray'>\n"
     ]
    }
   ],
   "source": [
    "print(Y_pred)\n",
    "print(type(Y_pred))\n",
    "print(type(Y_pred[0]))"
   ]
  },
  {
   "cell_type": "code",
   "execution_count": 39,
   "metadata": {},
   "outputs": [],
   "source": [
    "Y_pred = Y_pred.tolist()\n",
    "\n",
    "json.dump(Y_pred, open('predict.json', 'w'))  "
   ]
  },
  {
   "cell_type": "code",
   "execution_count": 40,
   "metadata": {},
   "outputs": [],
   "source": [
    "model.save('my_model.h5')"
   ]
  },
  {
   "cell_type": "code",
   "execution_count": null,
   "metadata": {},
   "outputs": [],
   "source": []
  }
 ],
 "metadata": {
  "kernelspec": {
   "display_name": "Python 3",
   "language": "python",
   "name": "python3"
  },
  "language_info": {
   "codemirror_mode": {
    "name": "ipython",
    "version": 3
   },
   "file_extension": ".py",
   "mimetype": "text/x-python",
   "name": "python",
   "nbconvert_exporter": "python",
   "pygments_lexer": "ipython3",
   "version": "3.7.3"
  }
 },
 "nbformat": 4,
 "nbformat_minor": 4
}
